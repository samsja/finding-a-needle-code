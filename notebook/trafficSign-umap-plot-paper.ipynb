{
 "cells": [
  {
   "cell_type": "markdown",
   "id": "humanitarian-princeton",
   "metadata": {},
   "source": [
    "# Traffic sign UMAP"
   ]
  },
  {
   "cell_type": "markdown",
   "id": "healthy-brick",
   "metadata": {},
   "source": [
    "##  0 . Import"
   ]
  },
  {
   "cell_type": "code",
   "execution_count": null,
   "id": "premier-badge",
   "metadata": {
    "tags": []
   },
   "outputs": [],
   "source": [
    "import matplotlib.pyplot as plt\n",
    "import torch\n",
    "import torch.nn as nn\n",
    "import torch.nn.functional as F\n",
    "import torchvision"
   ]
  },
  {
   "cell_type": "code",
   "execution_count": null,
   "id": "recognized-quarterly",
   "metadata": {},
   "outputs": [],
   "source": [
    "from torchvision import transforms\n",
    "from torchvision.models import resnet18, resnet34"
   ]
  },
  {
   "cell_type": "code",
   "execution_count": null,
   "id": "likely-rocket",
   "metadata": {},
   "outputs": [],
   "source": [
    "import numpy as np"
   ]
  },
  {
   "cell_type": "code",
   "execution_count": null,
   "id": "0ff9ec74-f862-4979-a29a-2f2fdf1e623e",
   "metadata": {},
   "outputs": [],
   "source": [
    "import pandas as pd"
   ]
  },
  {
   "cell_type": "code",
   "execution_count": null,
   "id": "compact-trinity",
   "metadata": {},
   "outputs": [],
   "source": [
    "from tqdm.autonotebook import tqdm"
   ]
  },
  {
   "cell_type": "code",
   "execution_count": null,
   "id": "enhanced-combining",
   "metadata": {},
   "outputs": [],
   "source": [
    "print(torch.__version__)"
   ]
  },
  {
   "cell_type": "code",
   "execution_count": null,
   "id": "initial-reasoning",
   "metadata": {},
   "outputs": [],
   "source": [
    "import sys\n",
    "\n",
    "print(\"python version is \" + sys.version)"
   ]
  },
  {
   "cell_type": "code",
   "execution_count": null,
   "id": "intended-sender",
   "metadata": {},
   "outputs": [],
   "source": [
    "import copy\n",
    "import os\n",
    "import pickle\n",
    "from os.path import join\n",
    "from typing import Any, List, Tuple\n",
    "\n",
    "from torchvision.datasets.utils import list_dir, list_files"
   ]
  },
  {
   "cell_type": "code",
   "execution_count": null,
   "id": "intense-think",
   "metadata": {},
   "outputs": [],
   "source": [
    "# %load_ext autoreload\n",
    "# %autoreload 2"
   ]
  },
  {
   "cell_type": "code",
   "execution_count": null,
   "id": "available-saturday",
   "metadata": {},
   "outputs": [],
   "source": [
    "import os"
   ]
  },
  {
   "cell_type": "code",
   "execution_count": null,
   "id": "pending-extra",
   "metadata": {},
   "outputs": [],
   "source": [
    "os.chdir(\"..\")"
   ]
  },
  {
   "cell_type": "code",
   "execution_count": null,
   "id": "accessible-archives",
   "metadata": {},
   "outputs": [],
   "source": [
    "from src.few_shot_learning.standard_net import StandardNet, StandardNetAdaptater"
   ]
  },
  {
   "cell_type": "code",
   "execution_count": null,
   "id": "85e51350-c6f2-42be-8967-867e787d55b8",
   "metadata": {},
   "outputs": [],
   "source": [
    "from collections import namedtuple"
   ]
  },
  {
   "cell_type": "code",
   "execution_count": null,
   "id": "distinguished-decade",
   "metadata": {},
   "outputs": [],
   "source": [
    "from src.utils_plot import img_from_tensor, imshow, plot_list"
   ]
  },
  {
   "cell_type": "code",
   "execution_count": null,
   "id": "d8c3dfc8-c3f9-4a89-a44f-af3b71a6d7c8",
   "metadata": {},
   "outputs": [],
   "source": [
    "from src.datasource import get_data_6_rare"
   ]
  },
  {
   "cell_type": "code",
   "execution_count": null,
   "id": "a053b842-bcc9-457f-8464-3e4cde1d68de",
   "metadata": {},
   "outputs": [],
   "source": [
    "import random"
   ]
  },
  {
   "cell_type": "code",
   "execution_count": null,
   "id": "fe402f44-db4d-41c4-a192-6bddcb953c9b",
   "metadata": {},
   "outputs": [],
   "source": [
    "# import umap\n",
    "# import umap.plot"
   ]
  },
  {
   "cell_type": "code",
   "execution_count": null,
   "id": "b67844a0-b75c-462f-8eac-7f061fd0196c",
   "metadata": {},
   "outputs": [],
   "source": [
    "import colorcet as cc\n",
    "import datashader as ds\n",
    "import datashader.transfer_functions as tf"
   ]
  },
  {
   "cell_type": "markdown",
   "id": "induced-reflection",
   "metadata": {},
   "source": [
    "### Device selection gpu or not"
   ]
  },
  {
   "cell_type": "code",
   "execution_count": null,
   "id": "polyphonic-comedy",
   "metadata": {},
   "outputs": [],
   "source": [
    "device = torch.device(\"cuda\" if torch.cuda.is_available() else \"cpu\")"
   ]
  },
  {
   "cell_type": "code",
   "execution_count": null,
   "id": "4f274dfd",
   "metadata": {},
   "outputs": [],
   "source": [
    "device"
   ]
  },
  {
   "cell_type": "code",
   "execution_count": null,
   "id": "nearby-local",
   "metadata": {},
   "outputs": [],
   "source": [
    "if device == torch.device(\"cuda\"):\n",
    "    print(torch.cuda.get_device_name(device))"
   ]
  },
  {
   "cell_type": "markdown",
   "id": "developed-consideration",
   "metadata": {},
   "source": [
    "## 1 . Dataset"
   ]
  },
  {
   "cell_type": "code",
   "execution_count": null,
   "id": "3817c2ab-ff20-4344-97cd-5c9b54cdfcaa",
   "metadata": {},
   "outputs": [],
   "source": [
    "path_to_data= \"/staging/thesis_data_search/data\""
   ]
  },
  {
   "cell_type": "code",
   "execution_count": null,
   "id": "2c28aed1-2515-4bc3-bcda-0c475b3144a3",
   "metadata": {},
   "outputs": [],
   "source": [
    "class_to_search_on,init_data = get_data_6_rare(path_to_data,10,50)"
   ]
  },
  {
   "cell_type": "code",
   "execution_count": null,
   "id": "e8f90c6f-1ff9-41b9-a6a2-986b8de68999",
   "metadata": {},
   "outputs": [],
   "source": [
    "train_dataset, eval_dataset, test_dataset = init_data()"
   ]
  },
  {
   "cell_type": "code",
   "execution_count": null,
   "id": "uniform-orientation",
   "metadata": {},
   "outputs": [],
   "source": [
    "len(train_dataset), len(eval_dataset),len(test_dataset)"
   ]
  },
  {
   "cell_type": "code",
   "execution_count": null,
   "id": "78189ec5-9906-474a-8307-7c3a8b2b40f0",
   "metadata": {},
   "outputs": [],
   "source": [
    "batch_size = 16\n",
    "train_loader = torch.utils.data.DataLoader(\n",
    "    train_dataset, shuffle=True, num_workers=4, batch_size=batch_size\n",
    ")\n",
    "\n",
    "val_loader = torch.utils.data.DataLoader(\n",
    "    eval_dataset, shuffle=True, batch_size=batch_size, num_workers=4\n",
    ")\n",
    "\n",
    "test_loader = torch.utils.data.DataLoader(\n",
    "    test_dataset, shuffle=True, batch_size=batch_size, num_workers=4\n",
    ")"
   ]
  },
  {
   "cell_type": "markdown",
   "id": "bridal-trust",
   "metadata": {},
   "source": [
    "##  2. Use a pretrain model"
   ]
  },
  {
   "cell_type": "code",
   "execution_count": null,
   "id": "other-deputy",
   "metadata": {},
   "outputs": [],
   "source": [
    "model = StandardNet(\n",
    "    len(train_dataset.classes) + len(test_dataset.classes), pretrained=True\n",
    ")\n",
    "\n",
    "model = model.to(device)"
   ]
  },
  {
   "cell_type": "code",
   "execution_count": null,
   "id": "45e696db-73cb-47ce-869d-ac1bb87a5314",
   "metadata": {},
   "outputs": [],
   "source": [
    "model = torch.load(\"data/new_checkpoint.pt\")"
   ]
  },
  {
   "cell_type": "code",
   "execution_count": null,
   "id": "522b4f38-3f45-4f86-930b-3fbcac48e9eb",
   "metadata": {},
   "outputs": [],
   "source": [
    "#model"
   ]
  },
  {
   "cell_type": "markdown",
   "id": "1c85ad10-5ac7-41f4-9a9e-bfb6255a8fee",
   "metadata": {},
   "source": [
    "### Umap"
   ]
  },
  {
   "cell_type": "code",
   "execution_count": null,
   "id": "60690d34-06f0-4400-97bd-f1f583a8bc77",
   "metadata": {},
   "outputs": [],
   "source": [
    "feature_extractor = model"
   ]
  },
  {
   "cell_type": "code",
   "execution_count": null,
   "id": "5efe4d9c-548a-429d-9108-eb34e7085d16",
   "metadata": {},
   "outputs": [],
   "source": [
    "feature_extractor.resnet.fc = torch.nn.Identity()"
   ]
  },
  {
   "cell_type": "code",
   "execution_count": null,
   "id": "aa5a931b-355f-429c-8ea6-28bf9a0a9b09",
   "metadata": {},
   "outputs": [],
   "source": [
    "classes = train_dataset.classes"
   ]
  },
  {
   "cell_type": "code",
   "execution_count": null,
   "id": "eb6390f4-fe49-40e9-b614-aac1031e8a15",
   "metadata": {},
   "outputs": [],
   "source": [
    "def get_features_and_label(dataloader,feature_extractor):\n",
    "    features = []\n",
    "    labels = []\n",
    "\n",
    "    with torch.no_grad():\n",
    "\n",
    "        \"\"\"\n",
    "        for class_ in tqdm(classes):\n",
    "            sampler = ClassSampler(train_dataset, class_, batch_size)\n",
    "\n",
    "            loader = torch.utils.data.DataLoader(\n",
    "                train_dataset, batch_sampler=sampler, num_workers=20\n",
    "        )\n",
    "        \"\"\"\n",
    "\n",
    "        for idx, batch in enumerate(tqdm(dataloader, disable=False)):\n",
    "\n",
    "            batch_features = feature_extractor(batch[\"img\"].to(device))\n",
    "            features.append(batch_features)\n",
    "            labels.append(batch[\"label\"].to(device))\n",
    "\n",
    "        features = torch.cat(features)\n",
    "        labels = torch.cat(labels)\n",
    "\n",
    "        features_np = features.to(\"cpu\").numpy()\n",
    "        labels_np = labels.to(\"cpu\").numpy()\n",
    "\n",
    "    return features_np, labels_np"
   ]
  },
  {
   "cell_type": "code",
   "execution_count": null,
   "id": "4cdd0e98-6604-4082-be4d-e9135cece4ec",
   "metadata": {},
   "outputs": [],
   "source": [
    "features_train, labels_train = get_features_and_label(train_loader,feature_extractor)"
   ]
  },
  {
   "cell_type": "code",
   "execution_count": null,
   "id": "accepted-european",
   "metadata": {},
   "outputs": [],
   "source": [
    "features_val, labels_val = get_features_and_label(val_loader,feature_extractor)"
   ]
  },
  {
   "cell_type": "code",
   "execution_count": null,
   "id": "intimate-theorem",
   "metadata": {},
   "outputs": [],
   "source": [
    "#features_test, labels_test = get_features_and_label(test_loader,feature_extractor)"
   ]
  },
  {
   "cell_type": "code",
   "execution_count": null,
   "id": "monthly-williams",
   "metadata": {},
   "outputs": [],
   "source": [
    "# np.savez_compressed(\"features_labels\", features_train=features_train, features_val=features_val,\n",
    "#                    labels_train=labels_train, labels_val=labels_val)\n",
    "# a = np.load(\"features_labels.npz\")\n",
    "# features_train = a['features_train']\n",
    "# labels_train = a['labels_train']\n",
    "# features_val = a['features_val']\n",
    "# labels_val = a['labels_val']"
   ]
  },
  {
   "cell_type": "code",
   "execution_count": null,
   "id": "early-association",
   "metadata": {},
   "outputs": [],
   "source": [
    "features_val.shape"
   ]
  },
  {
   "cell_type": "code",
   "execution_count": null,
   "id": "cdb05fe5-7cf0-4b36-9d37-cd4e9c387c8f",
   "metadata": {},
   "outputs": [],
   "source": [
    "# class_ = 276\n",
    "class_ = 255"
   ]
  },
  {
   "cell_type": "code",
   "execution_count": null,
   "id": "continued-smell",
   "metadata": {},
   "outputs": [],
   "source": [
    "# class_ += 1\n",
    "# print(class_)"
   ]
  },
  {
   "cell_type": "code",
   "execution_count": null,
   "id": "miniature-excitement",
   "metadata": {},
   "outputs": [],
   "source": [
    "class_train_features = np.array([f for f, l in zip(features_train, labels_train) if l == class_])\n",
    "class_val_features = np.array([f for f, l in zip(features_val, labels_val) if l == class_])\n",
    "other_train_features = np.array([f for f, l in zip(features_train, labels_train) if l != class_])\n",
    "other_val_features = np.array([f for f, l in zip(features_val, labels_val) if l != class_])\n",
    "print(class_train_features.shape, class_val_features.shape)\n",
    "import fbpca  # Scikit-learn doesn't support uncentered PCA, so I installed this package\n",
    "(U, s, Va) = fbpca.pca(class_train_features, 2, True)\n",
    "U, Va = -U, -Va  # The minus is arbitrary, but happens to give positive numbers\n",
    "print([x.shape for x in (U, s, Va)])"
   ]
  },
  {
   "cell_type": "code",
   "execution_count": null,
   "id": "distributed-penetration",
   "metadata": {},
   "outputs": [],
   "source": [
    "class_train_features_pca = class_train_features @ Va.T\n",
    "other_train_features_pca = other_train_features @ Va.T\n",
    "class_val_features_pca = class_val_features @ Va.T\n",
    "other_val_features_pca = other_val_features @ Va.T\n",
    "# plt.plot(train_features_pca[:,0], train_features_pca[:,1], 'go')\n",
    "# plt.plot(class_train_features_pca[:,0], class_train_features_pca[:,1], 'bx')\n",
    "plt.plot(other_val_features_pca[:,0], other_val_features_pca[:,1], 'go')\n",
    "plt.plot(class_val_features_pca[:,0], class_val_features_pca[:,1], 'bx')\n",
    "# plt.plot(val_features_pca[:,0], val_features_pca[:,0]*0, 'go')\n",
    "# plt.plot(class_val_features_pca[:,0], class_val_features_pca[:,0]* 0, 'bx')"
   ]
  }
 ],
 "metadata": {
  "kernelspec": {
   "display_name": "Python 3",
   "language": "python",
   "name": "python3"
  },
  "language_info": {
   "codemirror_mode": {
    "name": "ipython",
    "version": 3
   },
   "file_extension": ".py",
   "mimetype": "text/x-python",
   "name": "python",
   "nbconvert_exporter": "python",
   "pygments_lexer": "ipython3",
   "version": "3.8.10"
  }
 },
 "nbformat": 4,
 "nbformat_minor": 5
}
